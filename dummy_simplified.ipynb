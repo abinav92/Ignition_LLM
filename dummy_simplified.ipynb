{
 "cells": [
  {
   "cell_type": "code",
   "execution_count": 4,
   "metadata": {},
   "outputs": [
    {
     "data": {
      "text/plain": [
       "ChatCompletion(id='chatcmpl-Ajd8eMNzWlIRufT7f4gGvejyBxhsq', choices=[Choice(finish_reason='stop', index=0, logprobs=None, message=ChatCompletionMessage(content='The square of 834 is 695,556.', refusal=None, role='assistant', audio=None, function_call=None, tool_calls=None))], created=1735438572, model='gpt-4o-2024-08-06', object='chat.completion', service_tier=None, system_fingerprint='fp_d28bcae782', usage=CompletionUsage(completion_tokens=12, prompt_tokens=66, total_tokens=78, completion_tokens_details=CompletionTokensDetails(accepted_prediction_tokens=0, audio_tokens=0, reasoning_tokens=0, rejected_prediction_tokens=0), prompt_tokens_details=PromptTokensDetails(audio_tokens=0, cached_tokens=0)))"
      ]
     },
     "execution_count": 4,
     "metadata": {},
     "output_type": "execute_result"
    }
   ],
   "source": [
    "import json\n",
    "from openai import OpenAI\n",
    "import os\n",
    "\n",
    "# Set up the OpenAI API client\n",
    "client = OpenAI(api_key=os.getenv(\"OPENAI_API_KEY\"))\n",
    "DEPLOYMENT_NAME = 'gpt-4o'\n",
    "\n",
    "# Example function hard coded to return the same weather\n",
    "\n",
    "\n",
    "# Function to square a number\n",
    "def get_square_number(number: int) -> int:\n",
    "    \"\"\"Retruns square of a number\"\"\"\n",
    "    return number**2\n",
    "\n",
    "def run_conversation():\n",
    "    messages = [\n",
    "        { \n",
    "            \"role\": \"system\", \n",
    "            \"content\": \"\"\"\n",
    "                You are a helpful assistant.\n",
    "                You have access to a function that can square a number.\n",
    "            \"\"\"\n",
    "        }\n",
    "    ]\n",
    "    while True:\n",
    "        user_input = input(\"User: \")\n",
    "        if user_input.lower() in ['exit', 'quit', 'stop']:\n",
    "            break\n",
    "        messages.append({\"role\": \"user\", \"content\": user_input})\n",
    "        tools = [\n",
    "            {\n",
    "                \"type\": \"function\",\n",
    "                \"function\": {\n",
    "                    \"name\": \"get_square_number\",\n",
    "                    \"description\": \"\"\"\n",
    "                        Returns square of a given number. \n",
    "                    \"\"\",\n",
    "                    \"parameters\": {\n",
    "                        \"type\": \"object\",\n",
    "                        \"properties\": {\n",
    "                            \"number\": {\n",
    "                                \"type\": \"integer\",\n",
    "                                \"description\": \"The input number that need to be squared\",\n",
    "                            },\n",
    "                        },\n",
    "                        \"required\": [\"number\"],\n",
    "                    },\n",
    "                },\n",
    "            }\n",
    "        ]\n",
    "        response = client.chat.completions.create(\n",
    "            model=DEPLOYMENT_NAME,\n",
    "            messages=messages,\n",
    "            tools=tools,\n",
    "            tool_choice=\"auto\",\n",
    "            temperature=0,\n",
    "        )\n",
    "        response_message = response.choices[0].message\n",
    "        tool_calls = response_message.tool_calls\n",
    "        if tool_calls:\n",
    "            messages.append(response_message)\n",
    "            for tool_call in tool_calls:\n",
    "                messages.append(\n",
    "                    {\n",
    "                        \"tool_call_id\": tool_call.id,\n",
    "                        \"role\": \"tool\",\n",
    "                        \"name\": str(tool_call.function.name),\n",
    "                        \"content\": str(get_square_number(**json.loads(tool_call.function.arguments))),\n",
    "                    }\n",
    "                )\n",
    "            second_response = client.chat.completions.create(\n",
    "                model=DEPLOYMENT_NAME,\n",
    "                messages=messages,\n",
    "                temperature=0,\n",
    "            )\n",
    "            print(\"Assistant:\", second_response.choices[0].message['content'])\n",
    "        else:\n",
    "            print(\"Assistant:\", response_message['content'])\n",
    "\n",
    "run_conversation()\n"
   ]
  },
  {
   "cell_type": "code",
   "execution_count": null,
   "metadata": {},
   "outputs": [],
   "source": []
  }
 ],
 "metadata": {
  "kernelspec": {
   "display_name": "testing_venv",
   "language": "python",
   "name": "python3"
  },
  "language_info": {
   "codemirror_mode": {
    "name": "ipython",
    "version": 3
   },
   "file_extension": ".py",
   "mimetype": "text/x-python",
   "name": "python",
   "nbconvert_exporter": "python",
   "pygments_lexer": "ipython3",
   "version": "3.11.9"
  }
 },
 "nbformat": 4,
 "nbformat_minor": 2
}
