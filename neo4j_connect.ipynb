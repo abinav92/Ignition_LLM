{
 "cells": [
  {
   "cell_type": "code",
   "execution_count": 49,
   "metadata": {},
   "outputs": [],
   "source": [
    "import os\n",
    "from neo4j import GraphDatabase"
   ]
  },
  {
   "cell_type": "code",
   "execution_count": 50,
   "metadata": {},
   "outputs": [],
   "source": [
    "URI = \"bolt://localhost:7687\"\n",
    "AUTH = (os.environ.get(\"NEO4J_USERNAME\"), os.environ.get(\"NEO4J_PASSWORD\"))"
   ]
  },
  {
   "cell_type": "code",
   "execution_count": 55,
   "metadata": {},
   "outputs": [
    {
     "name": "stdout",
     "output_type": "stream",
     "text": [
      "Connection established.\n",
      "Nodes created successfully.\n"
     ]
    }
   ],
   "source": [
    "with GraphDatabase.driver(URI, auth=AUTH) as driver:\n",
    "    driver.verify_connectivity()\n",
    "    print(\"Connection established.\")\n",
    "\n",
    "    with driver.session() as session:\n",
    "        # Execute a Cypher query to create nodes\n",
    "        session.run('MATCH (n) DETACH DELETE n')\n",
    "\n",
    "        session.run('''\n",
    "            CREATE (tnk1000:TANK {name: \"Tank 1\", status: \"100% Full\"}),\n",
    "                    (mv3001:VALVE {name: \"Valve 1\", status: \"Close\"}),\n",
    "                    (mv3002:VALVE {name: \"Valve 2\", status: \"Open\"}),\n",
    "                    (tnk1000)-[:FEEDS_WATER_TO]->(mv3001),\n",
    "                    (mv3001)-[:FEEDS_WATER_TO]->(mv3002)\n",
    "        ''')\n",
    "        print(\"Nodes created successfully.\")"
   ]
  },
  {
   "cell_type": "code",
   "execution_count": 73,
   "metadata": {},
   "outputs": [],
   "source": [
    "import getpass\n",
    "import os\n",
    "\n",
    "os.environ[\"OPENAI_API_KEY\"] = getpass.getpass()\n",
    "\n",
    "# Uncomment the below to use LangSmith. Not required.\n",
    "# os.environ[\"LANGCHAIN_API_KEY\"] = getpass.getpass()\n",
    "# os.environ[\"LANGCHAIN_TRACING_V2\"] = \"true\""
   ]
  },
  {
   "cell_type": "code",
   "execution_count": 74,
   "metadata": {},
   "outputs": [],
   "source": [
    "os.environ[\"NEO4J_URI\"] = \"bolt://localhost:7687\"\n",
    "os.environ[\"NEO4J_USERNAME\"] = \"neo4j\"\n",
    "os.environ[\"NEO4J_PASSWORD\"] = \"password\""
   ]
  },
  {
   "cell_type": "code",
   "execution_count": 75,
   "metadata": {},
   "outputs": [
    {
     "data": {
      "text/plain": [
       "[]"
      ]
     },
     "execution_count": 75,
     "metadata": {},
     "output_type": "execute_result"
    }
   ],
   "source": [
    "from langchain_community.graphs import Neo4jGraph\n",
    "\n",
    "graph = Neo4jGraph()\n",
    "\n",
    "# Import movie information\n",
    "\n",
    "piping_query = \"\"\"\n",
    "            CREATE (tnk1000:TANK {name: \"Tank 1\", status: \"100% Full\"}),\n",
    "                    (mv3001:VALVE {name: \"Valve 1\", status: \"closed\"}),\n",
    "                    (mv3002:VALVE {name: \"Valve 2\", status: \"open\"}),\n",
    "                    (tnk1000)-[:FEEDS_WATER_TO]->(mv3001),\n",
    "                    (mv3001)-[:FEEDS_WATER_TO]->(mv3002)\n",
    "\"\"\"\n",
    "\n",
    "graph.query(piping_query)"
   ]
  },
  {
   "cell_type": "code",
   "execution_count": 76,
   "metadata": {},
   "outputs": [
    {
     "name": "stdout",
     "output_type": "stream",
     "text": [
      "Node properties:\n",
      "TANK {name: STRING, status: STRING}\n",
      "VALVE {name: STRING, status: STRING}\n",
      "Relationship properties:\n",
      "\n",
      "The relationships:\n",
      "(:TANK)-[:FEEDS_WATER_TO]->(:VALVE)\n",
      "(:VALVE)-[:FEEDS_WATER_TO]->(:VALVE)\n"
     ]
    }
   ],
   "source": [
    "graph.refresh_schema()\n",
    "print(graph.schema)"
   ]
  },
  {
   "cell_type": "code",
   "execution_count": null,
   "metadata": {},
   "outputs": [
    {
     "data": {
      "text/plain": [
       "str"
      ]
     },
     "execution_count": 78,
     "metadata": {},
     "output_type": "execute_result"
    }
   ],
   "source": []
  },
  {
   "cell_type": "code",
   "execution_count": 77,
   "metadata": {},
   "outputs": [
    {
     "name": "stdout",
     "output_type": "stream",
     "text": [
      "\n",
      "\n",
      "\u001b[1m> Entering new GraphCypherQAChain chain...\u001b[0m\n",
      "Generated Cypher:\n",
      "\u001b[32;1m\u001b[1;3mcypher\n",
      "MATCH (t:TANK)-[:FEEDS_WATER_TO]->(v1:VALVE {name: 'Valve 2'})-[:FEEDS_WATER_TO]->(v2:VALVE)\n",
      "WHERE v1.status = 'open' AND (t.status <> 'active' OR v2.status <> 'open')\n",
      "RETURN t.name AS Tank, t.status AS TankStatus, v2.name AS NextValve, v2.status AS NextValveStatus\n",
      "\u001b[0m\n",
      "Full Context:\n",
      "\u001b[32;1m\u001b[1;3m[]\u001b[0m\n",
      "\n",
      "\u001b[1m> Finished chain.\u001b[0m\n"
     ]
    },
    {
     "data": {
      "text/plain": [
       "{'query': \"Why there is no water flow when 'Valve 2' is open?\",\n",
       " 'result': \"I don't know the answer.\"}"
      ]
     },
     "execution_count": 77,
     "metadata": {},
     "output_type": "execute_result"
    }
   ],
   "source": [
    "from langchain.chains import GraphCypherQAChain\n",
    "from langchain_openai import ChatOpenAI\n",
    "\n",
    "llm = ChatOpenAI(model=\"gpt-4o\", temperature=0)\n",
    "# llm = ChatOpenAI(model=\"o1-mini\")\n",
    "chain = GraphCypherQAChain.from_llm(graph=graph, llm=llm, verbose=True, validate_cypher=True, allow_dangerous_requests=True)\n",
    "response = chain.invoke({\"query\": \"Why there is no water flow when 'Valve 2' is open?\"})\n",
    "response"
   ]
  },
  {
   "cell_type": "code",
   "execution_count": 94,
   "metadata": {},
   "outputs": [
    {
     "ename": "ValidationError",
     "evalue": "1 validation error for Task\nexpected_output\n  Field required [type=missing, input_value={'description': 'Generate...swer the user's query.)}, input_type=dict]\n    For further information visit https://errors.pydantic.dev/2.9/v/missing",
     "output_type": "error",
     "traceback": [
      "\u001b[1;31m---------------------------------------------------------------------------\u001b[0m",
      "\u001b[1;31mValidationError\u001b[0m                           Traceback (most recent call last)",
      "Cell \u001b[1;32mIn[94], line 54\u001b[0m\n\u001b[0;32m     45\u001b[0m cypher_result_interpreter \u001b[38;5;241m=\u001b[39m Agent(\n\u001b[0;32m     46\u001b[0m     role\u001b[38;5;241m=\u001b[39m\u001b[38;5;124m\"\u001b[39m\u001b[38;5;124mCypher Result Interpreter\u001b[39m\u001b[38;5;124m\"\u001b[39m,\n\u001b[0;32m     47\u001b[0m     goal\u001b[38;5;241m=\u001b[39m\u001b[38;5;124m\"\u001b[39m\u001b[38;5;124mYou obtain the final result of the Cypher query to answer the user\u001b[39m\u001b[38;5;124m'\u001b[39m\u001b[38;5;124ms \u001b[39m\u001b[38;5;132;01m{query}\u001b[39;00m\u001b[38;5;124m\"\u001b[39m,\n\u001b[1;32m   (...)\u001b[0m\n\u001b[0;32m     50\u001b[0m     verbose\u001b[38;5;241m=\u001b[39m\u001b[38;5;28;01mTrue\u001b[39;00m\n\u001b[0;32m     51\u001b[0m )\n\u001b[0;32m     53\u001b[0m \u001b[38;5;66;03m# Define the Tasks (no need for inputs/outputs in task definition)\u001b[39;00m\n\u001b[1;32m---> 54\u001b[0m task_cypher_generator \u001b[38;5;241m=\u001b[39m \u001b[43mTask\u001b[49m\u001b[43m(\u001b[49m\n\u001b[0;32m     55\u001b[0m \u001b[43m    \u001b[49m\u001b[43mdescription\u001b[49m\u001b[38;5;241;43m=\u001b[39;49m\u001b[38;5;124;43m\"\u001b[39;49m\u001b[38;5;124;43mGenerate Cypher query to address user query using schema\u001b[39;49m\u001b[38;5;124;43m\"\u001b[39;49m\u001b[43m,\u001b[49m\n\u001b[0;32m     56\u001b[0m \u001b[43m    \u001b[49m\u001b[43mrole\u001b[49m\u001b[38;5;241;43m=\u001b[39;49m\u001b[38;5;124;43m\"\u001b[39;49m\u001b[38;5;124;43mCypher Generator\u001b[39;49m\u001b[38;5;124;43m\"\u001b[39;49m\u001b[43m,\u001b[49m\n\u001b[0;32m     57\u001b[0m \u001b[43m    \u001b[49m\u001b[43magent\u001b[49m\u001b[38;5;241;43m=\u001b[39;49m\u001b[43mcypher_generator\u001b[49m\u001b[43m  \u001b[49m\u001b[38;5;66;43;03m# Ensure cypher_generator is defined correctly\u001b[39;49;00m\n\u001b[0;32m     58\u001b[0m \u001b[43m)\u001b[49m\n\u001b[0;32m     60\u001b[0m task_cypher_executer \u001b[38;5;241m=\u001b[39m Task(\n\u001b[0;32m     61\u001b[0m     description\u001b[38;5;241m=\u001b[39m\u001b[38;5;124m\"\u001b[39m\u001b[38;5;124mExecute the Cypher query on the Neo4j database using the Database_Access tool\u001b[39m\u001b[38;5;124m\"\u001b[39m,\n\u001b[0;32m     62\u001b[0m     role\u001b[38;5;241m=\u001b[39m\u001b[38;5;124m\"\u001b[39m\u001b[38;5;124mCypher Executer\u001b[39m\u001b[38;5;124m\"\u001b[39m,\n\u001b[0;32m     63\u001b[0m     agent\u001b[38;5;241m=\u001b[39mcypher_executer,\n\u001b[0;32m     64\u001b[0m     tools\u001b[38;5;241m=\u001b[39m[database_access]  \u001b[38;5;66;03m# Explicitly pass the tool instance here\u001b[39;00m\n\u001b[0;32m     65\u001b[0m )\n\u001b[0;32m     67\u001b[0m task_cypher_result_interpreter \u001b[38;5;241m=\u001b[39m Task(\n\u001b[0;32m     68\u001b[0m     description\u001b[38;5;241m=\u001b[39m\u001b[38;5;124m\"\u001b[39m\u001b[38;5;124mInterpret the result of the Cypher query to answer the user\u001b[39m\u001b[38;5;124m'\u001b[39m\u001b[38;5;124ms question\u001b[39m\u001b[38;5;124m\"\u001b[39m,\n\u001b[0;32m     69\u001b[0m     role\u001b[38;5;241m=\u001b[39m\u001b[38;5;124m\"\u001b[39m\u001b[38;5;124mCypher Result Interpreter\u001b[39m\u001b[38;5;124m\"\u001b[39m,\n\u001b[0;32m     70\u001b[0m     agent\u001b[38;5;241m=\u001b[39mcypher_result_interpreter\n\u001b[0;32m     71\u001b[0m )\n",
      "File \u001b[1;32mc:\\Users\\abina\\Documents\\Python Projects\\Testing\\testing_venv\\Lib\\site-packages\\pydantic\\main.py:212\u001b[0m, in \u001b[0;36mBaseModel.__init__\u001b[1;34m(self, **data)\u001b[0m\n\u001b[0;32m    210\u001b[0m \u001b[38;5;66;03m# `__tracebackhide__` tells pytest and some other tools to omit this function from tracebacks\u001b[39;00m\n\u001b[0;32m    211\u001b[0m __tracebackhide__ \u001b[38;5;241m=\u001b[39m \u001b[38;5;28;01mTrue\u001b[39;00m\n\u001b[1;32m--> 212\u001b[0m validated_self \u001b[38;5;241m=\u001b[39m \u001b[38;5;28;43mself\u001b[39;49m\u001b[38;5;241;43m.\u001b[39;49m\u001b[43m__pydantic_validator__\u001b[49m\u001b[38;5;241;43m.\u001b[39;49m\u001b[43mvalidate_python\u001b[49m\u001b[43m(\u001b[49m\u001b[43mdata\u001b[49m\u001b[43m,\u001b[49m\u001b[43m \u001b[49m\u001b[43mself_instance\u001b[49m\u001b[38;5;241;43m=\u001b[39;49m\u001b[38;5;28;43mself\u001b[39;49m\u001b[43m)\u001b[49m\n\u001b[0;32m    213\u001b[0m \u001b[38;5;28;01mif\u001b[39;00m \u001b[38;5;28mself\u001b[39m \u001b[38;5;129;01mis\u001b[39;00m \u001b[38;5;129;01mnot\u001b[39;00m validated_self:\n\u001b[0;32m    214\u001b[0m     warnings\u001b[38;5;241m.\u001b[39mwarn(\n\u001b[0;32m    215\u001b[0m         \u001b[38;5;124m'\u001b[39m\u001b[38;5;124mA custom validator is returning a value other than `self`.\u001b[39m\u001b[38;5;130;01m\\n\u001b[39;00m\u001b[38;5;124m'\u001b[39m\n\u001b[0;32m    216\u001b[0m         \u001b[38;5;124m\"\u001b[39m\u001b[38;5;124mReturning anything other than `self` from a top level model validator isn\u001b[39m\u001b[38;5;124m'\u001b[39m\u001b[38;5;124mt supported when validating via `__init__`.\u001b[39m\u001b[38;5;130;01m\\n\u001b[39;00m\u001b[38;5;124m\"\u001b[39m\n\u001b[0;32m    217\u001b[0m         \u001b[38;5;124m'\u001b[39m\u001b[38;5;124mSee the `model_validator` docs (https://docs.pydantic.dev/latest/concepts/validators/#model-validators) for more details.\u001b[39m\u001b[38;5;124m'\u001b[39m,\n\u001b[0;32m    218\u001b[0m         category\u001b[38;5;241m=\u001b[39m\u001b[38;5;28;01mNone\u001b[39;00m,\n\u001b[0;32m    219\u001b[0m     )\n",
      "\u001b[1;31mValidationError\u001b[0m: 1 validation error for Task\nexpected_output\n  Field required [type=missing, input_value={'description': 'Generate...swer the user's query.)}, input_type=dict]\n    For further information visit https://errors.pydantic.dev/2.9/v/missing"
     ]
    }
   ],
   "source": [
    "from crewai import Agent, Task, Crew\n",
    "from crewai.tools import tool\n",
    "from neo4j import GraphDatabase\n",
    "\n",
    "# Assuming these are already set correctly for neo4j connection.\n",
    "URI = \"bolt://localhost:7687\"  # Replace with your actual URI\n",
    "AUTH = (\"neo4j\", \"password\")  # Replace with your actual authentication\n",
    "\n",
    "@tool(\"Database_Access\")\n",
    "def database_access(cypher_code: str) -> str:\n",
    "    \"\"\"Useful for accessing neo4j graph database via cypher query and returning the result.\"\"\"\n",
    "    with GraphDatabase.driver(URI, auth=AUTH) as driver:\n",
    "        driver.verify_connectivity()\n",
    "\n",
    "        with driver.session() as session:\n",
    "            result = session.run(cypher_code)  # Run the Cypher query\n",
    "            records = result.data()  # Retrieve the result as a list of dictionaries\n",
    "\n",
    "    # Convert the result to a string or return in a more suitable format\n",
    "    return str(records)  # You can format or process the result as needed\n",
    "\n",
    "# Define the schema directly in the code (no user input required)\n",
    "schema = graph.schema\n",
    "\n",
    "# Create the Cypher Generator Agent\n",
    "cypher_generator = Agent(\n",
    "    role=\"Cypher Generator\",\n",
    "    goal=\"An expert neo4j graph database cypher code generator based on input schema & user's {query}\",\n",
    "    backstory=\"\"\"You are working for a water treatment plant and you are an expert advisor and troubleshooter in mechanical, electrical, control, and process systems.\n",
    "    All of these are modeled into the neo4j graph database schema. You take in user {query} and translate it to Cypher code which will help answer the user's query.\"\"\",\n",
    "    allow_delegation=False,  # No delegation to other agents\n",
    "    verbose=True\n",
    ")\n",
    "\n",
    "# Create the Cypher Executer Agent\n",
    "cypher_executer = Agent(\n",
    "    role=\"Cypher Executer\",\n",
    "    goal=\"You obtain Cypher codes from Cypher generator and query it to neo4j\",\n",
    "    backstory=\"\"\"You are an expert Cypher executer who takes in Cypher queries and executes them with the neo4j tool.\"\"\",\n",
    "    allow_delegation=False,  # No delegation to other agents\n",
    "    verbose=True\n",
    ")\n",
    "\n",
    "# Create the Cypher Result Interpreter Agent\n",
    "cypher_result_interpreter = Agent(\n",
    "    role=\"Cypher Result Interpreter\",\n",
    "    goal=\"You obtain the final result of the Cypher query to answer the user's {query}\",\n",
    "    backstory=\"\"\"You are an expert Cypher result interpreter who translates the Cypher result to answer the user's {query}.\"\"\",\n",
    "    allow_delegation=False,  # No delegation to other agents\n",
    "    verbose=True\n",
    ")\n",
    "\n",
    "# Define the Tasks (no need for inputs/outputs in task definition)\n",
    "task_cypher_generator = Task(\n",
    "    description=\"Generate Cypher query to address user query using schema\",\n",
    "    role=\"Cypher Generator\",\n",
    "    agent=cypher_generator  # Ensure cypher_generator is defined correctly\n",
    ")\n",
    "\n",
    "task_cypher_executer = Task(\n",
    "    description=\"Execute the Cypher query on the Neo4j database using the Database_Access tool\",\n",
    "    role=\"Cypher Executer\",\n",
    "    agent=cypher_executer,\n",
    "    tools=[database_access]  # Explicitly pass the tool instance here\n",
    ")\n",
    "\n",
    "task_cypher_result_interpreter = Task(\n",
    "    description=\"Interpret the result of the Cypher query to answer the user's question\",\n",
    "    role=\"Cypher Result Interpreter\",\n",
    "    agent=cypher_result_interpreter\n",
    ")\n",
    "\n",
    "# Create the Crew (the group of agents working together to complete the overall task)\n",
    "crew = Crew(agents=[cypher_generator, cypher_executer, cypher_result_interpreter])\n",
    "\n",
    "# Initialize the Crew and use crew.kickoff to execute tasks in sequence\n",
    "crew.kickoff(inputs={'query': \"Why is there no water flow when 'Valve 2' is open?\"})\n"
   ]
  },
  {
   "cell_type": "code",
   "execution_count": null,
   "metadata": {},
   "outputs": [],
   "source": []
  }
 ],
 "metadata": {
  "kernelspec": {
   "display_name": "testing_venv",
   "language": "python",
   "name": "python3"
  },
  "language_info": {
   "codemirror_mode": {
    "name": "ipython",
    "version": 3
   },
   "file_extension": ".py",
   "mimetype": "text/x-python",
   "name": "python",
   "nbconvert_exporter": "python",
   "pygments_lexer": "ipython3",
   "version": "3.11.9"
  }
 },
 "nbformat": 4,
 "nbformat_minor": 2
}
