{
 "cells": [
  {
   "cell_type": "code",
   "execution_count": 1,
   "metadata": {},
   "outputs": [],
   "source": [
    "import os\n",
    "from neo4j import GraphDatabase"
   ]
  },
  {
   "cell_type": "code",
   "execution_count": 2,
   "metadata": {},
   "outputs": [],
   "source": [
    "URI = \"bolt://localhost:7687\"\n",
    "AUTH = (os.environ.get(\"neo4j_username\"), os.environ.get(\"neo4j_password\"))"
   ]
  },
  {
   "cell_type": "code",
   "execution_count": 6,
   "metadata": {},
   "outputs": [
    {
     "name": "stdout",
     "output_type": "stream",
     "text": [
      "Connection established.\n",
      "Nodes created successfully.\n"
     ]
    }
   ],
   "source": [
    "with GraphDatabase.driver(URI, auth=AUTH) as driver:\n",
    "    driver.verify_connectivity()\n",
    "    print(\"Connection established.\")\n",
    "\n",
    "    with driver.session() as session:\n",
    "        # Execute a Cypher query to create nodes\n",
    "        session.run('MATCH (n) DETACH DELETE n')\n",
    "\n",
    "        session.run('''\n",
    "            CREATE (tnk1000:TANK {tagid: \"TNK1000\", tagpath: \"[Sample_Tags]Experiment/TNK1000_LVL.value\"}),\n",
    "                    (mv3001:VALVE {tagid: \"MV3001\", tagpath: \"[Sample_Tags]Experiment/MV3001_Open.value\"}),\n",
    "                    (mv3002:VALVE {tagid: \"MV3002\", tagpath: \"[Sample_Tags]Experiment/MV3002_Open.value\"}),\n",
    "                    (tnk1000)-[:PLUMBS_TO]->(mv3001),\n",
    "                    (mv3001)-[:PLUMBS_TO]->(mv3002)\n",
    "        ''')\n",
    "        print(\"Nodes created successfully.\")"
   ]
  },
  {
   "cell_type": "code",
   "execution_count": null,
   "metadata": {},
   "outputs": [],
   "source": []
  }
 ],
 "metadata": {
  "kernelspec": {
   "display_name": "testing_venv",
   "language": "python",
   "name": "python3"
  },
  "language_info": {
   "codemirror_mode": {
    "name": "ipython",
    "version": 3
   },
   "file_extension": ".py",
   "mimetype": "text/x-python",
   "name": "python",
   "nbconvert_exporter": "python",
   "pygments_lexer": "ipython3",
   "version": "3.11.9"
  }
 },
 "nbformat": 4,
 "nbformat_minor": 2
}
